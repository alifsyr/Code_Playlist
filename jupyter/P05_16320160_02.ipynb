{
 "cells": [
  {
   "cell_type": "raw",
   "metadata": {},
   "source": [
    "nim/nama :16320160/Andry Dimas Putra\n",
    "tanggal  :15 Desember 2020\n",
    "deskripsi:pandas"
   ]
  },
  {
   "cell_type": "code",
   "execution_count": 1,
   "metadata": {},
   "outputs": [],
   "source": [
    "import pandas as pd\n",
    "df = pd.read_csv(\"covid.csv\")"
   ]
  },
  {
   "cell_type": "markdown",
   "metadata": {},
   "source": [
    "## 1. Data untuk negara US pada tanggal 4 Juli 2020"
   ]
  },
  {
   "cell_type": "code",
   "execution_count": 7,
   "metadata": {},
   "outputs": [
    {
     "name": "stdout",
     "output_type": "stream",
     "text": [
      "             Date Country/Region  Confirmed  Deaths  Recovered   Active  \\\n",
      "22262  2020-07-01             US    2687588  128105     729994  1829489   \n",
      "\n",
      "       New cases  New deaths  New recovered WHO Region  \n",
      "22262      51174         673           9363   Americas  \n"
     ]
    }
   ],
   "source": [
    "print(df.loc[(df[\"Country/Region\"] == \"US\") & (df[\"Date\"] == \"2020-07-01\")])"
   ]
  },
  {
   "cell_type": "markdown",
   "metadata": {},
   "source": [
    "## 2. Data untuk negara Malaysia dan Vietnam"
   ]
  },
  {
   "cell_type": "code",
   "execution_count": 10,
   "metadata": {},
   "outputs": [
    {
     "name": "stdout",
     "output_type": "stream",
     "text": [
      "             Date Country/Region  Confirmed  Deaths  Recovered  Active  \\\n",
      "26     2020-01-25       Malaysia          3       0          0       3   \n",
      "39     2020-01-26       Malaysia          4       0          0       4   \n",
      "54     2020-01-27       Malaysia          4       0          0       4   \n",
      "70     2020-01-28       Malaysia          4       0          0       4   \n",
      "87     2020-01-29       Malaysia          7       0          0       7   \n",
      "106    2020-01-30       Malaysia          8       0          0       8   \n",
      "127    2020-01-31       Malaysia          8       0          0       8   \n",
      "151    2020-02-01       Malaysia          8       0          0       8   \n",
      "176    2020-02-02       Malaysia          8       0          0       8   \n",
      "201    2020-02-03       Malaysia          8       0          0       8   \n",
      "227    2020-02-04       Malaysia         10       0          0      10   \n",
      "253    2020-02-05       Malaysia         12       0          0      12   \n",
      "279    2020-02-06       Malaysia         12       0          0      12   \n",
      "305    2020-02-07       Malaysia         12       0          1      11   \n",
      "331    2020-02-08       Malaysia         16       0          1      15   \n",
      "357    2020-02-09       Malaysia         16       0          1      15   \n",
      "383    2020-02-10       Malaysia         18       0          1      17   \n",
      "409    2020-02-11       Malaysia         18       0          3      15   \n",
      "435    2020-02-12       Malaysia         18       0          3      15   \n",
      "461    2020-02-13       Malaysia         19       0          3      16   \n",
      "488    2020-02-14       Malaysia         19       0          3      16   \n",
      "515    2020-02-15       Malaysia         22       0          7      15   \n",
      "542    2020-02-16       Malaysia         22       0          7      15   \n",
      "569    2020-02-17       Malaysia         22       0          7      15   \n",
      "596    2020-02-18       Malaysia         22       0         13       9   \n",
      "624    2020-02-19       Malaysia         22       0         15       7   \n",
      "652    2020-02-20       Malaysia         22       0         15       7   \n",
      "682    2020-02-21       Malaysia         22       0         15       7   \n",
      "712    2020-02-22       Malaysia         22       0         15       7   \n",
      "743    2020-02-23       Malaysia         22       0         15       7   \n",
      "...           ...            ...        ...     ...        ...     ...   \n",
      "21633  2020-06-28       Malaysia       8634     121       8318     195   \n",
      "21820  2020-06-29       Malaysia       8637     121       8334     182   \n",
      "22007  2020-06-30       Malaysia       8639     121       8354     164   \n",
      "22194  2020-07-01       Malaysia       8640     121       8375     144   \n",
      "22381  2020-07-02       Malaysia       8643     121       8437      85   \n",
      "22568  2020-07-03       Malaysia       8648     121       8446      81   \n",
      "22755  2020-07-04       Malaysia       8658     121       8461      76   \n",
      "22942  2020-07-05       Malaysia       8663     121       8465      77   \n",
      "23129  2020-07-06       Malaysia       8668     121       8476      71   \n",
      "23316  2020-07-07       Malaysia       8674     121       8481      72   \n",
      "23503  2020-07-08       Malaysia       8677     121       8486      70   \n",
      "23690  2020-07-09       Malaysia       8683     121       8499      63   \n",
      "23877  2020-07-10       Malaysia       8696     121       8511      64   \n",
      "24064  2020-07-11       Malaysia       8704     122       8515      67   \n",
      "24251  2020-07-12       Malaysia       8718     122       8519      77   \n",
      "24438  2020-07-13       Malaysia       8725     122       8520      83   \n",
      "24625  2020-07-14       Malaysia       8729     122       8524      83   \n",
      "24812  2020-07-15       Malaysia       8734     122       8526      86   \n",
      "24999  2020-07-16       Malaysia       8737     122       8538      77   \n",
      "25186  2020-07-17       Malaysia       8755     122       8541      92   \n",
      "25373  2020-07-18       Malaysia       8764     122       8546      96   \n",
      "25560  2020-07-19       Malaysia       8779     123       8553     103   \n",
      "25747  2020-07-20       Malaysia       8800     123       8555     122   \n",
      "25934  2020-07-21       Malaysia       8815     123       8562     130   \n",
      "26121  2020-07-22       Malaysia       8831     123       8566     142   \n",
      "26308  2020-07-23       Malaysia       8840     123       8574     143   \n",
      "26495  2020-07-24       Malaysia       8861     123       8577     161   \n",
      "26682  2020-07-25       Malaysia       8884     123       8594     167   \n",
      "26869  2020-07-26       Malaysia       8897     124       8600     173   \n",
      "27056  2020-07-27       Malaysia       8904     124       8601     179   \n",
      "\n",
      "       New cases  New deaths  New recovered       WHO Region  \n",
      "26             3           0              0  Western Pacific  \n",
      "39             1           0              0  Western Pacific  \n",
      "54             0           0              0  Western Pacific  \n",
      "70             0           0              0  Western Pacific  \n",
      "87             3           0              0  Western Pacific  \n",
      "106            1           0              0  Western Pacific  \n",
      "127            0           0              0  Western Pacific  \n",
      "151            0           0              0  Western Pacific  \n",
      "176            0           0              0  Western Pacific  \n",
      "201            0           0              0  Western Pacific  \n",
      "227            2           0              0  Western Pacific  \n",
      "253            2           0              0  Western Pacific  \n",
      "279            0           0              0  Western Pacific  \n",
      "305            0           0              1  Western Pacific  \n",
      "331            4           0              0  Western Pacific  \n",
      "357            0           0              0  Western Pacific  \n",
      "383            2           0              0  Western Pacific  \n",
      "409            0           0              2  Western Pacific  \n",
      "435            0           0              0  Western Pacific  \n",
      "461            1           0              0  Western Pacific  \n",
      "488            0           0              0  Western Pacific  \n",
      "515            3           0              4  Western Pacific  \n",
      "542            0           0              0  Western Pacific  \n",
      "569            0           0              0  Western Pacific  \n",
      "596            0           0              6  Western Pacific  \n",
      "624            0           0              2  Western Pacific  \n",
      "652            0           0              0  Western Pacific  \n",
      "682            0           0              0  Western Pacific  \n",
      "712            0           0              0  Western Pacific  \n",
      "743            0           0              0  Western Pacific  \n",
      "...          ...         ...            ...              ...  \n",
      "21633         18           0             10  Western Pacific  \n",
      "21820          3           0             16  Western Pacific  \n",
      "22007          2           0             20  Western Pacific  \n",
      "22194          1           0             21  Western Pacific  \n",
      "22381          3           0             62  Western Pacific  \n",
      "22568          5           0              9  Western Pacific  \n",
      "22755         10           0             15  Western Pacific  \n",
      "22942          5           0              4  Western Pacific  \n",
      "23129          5           0             11  Western Pacific  \n",
      "23316          6           0              5  Western Pacific  \n",
      "23503          3           0              5  Western Pacific  \n",
      "23690          6           0             13  Western Pacific  \n",
      "23877         13           0             12  Western Pacific  \n",
      "24064          8           1              4  Western Pacific  \n",
      "24251         14           0              4  Western Pacific  \n",
      "24438          7           0              1  Western Pacific  \n",
      "24625          4           0              4  Western Pacific  \n",
      "24812          5           0              2  Western Pacific  \n",
      "24999          3           0             12  Western Pacific  \n",
      "25186         18           0              3  Western Pacific  \n",
      "25373          9           0              5  Western Pacific  \n",
      "25560         15           1              7  Western Pacific  \n",
      "25747         21           0              2  Western Pacific  \n",
      "25934         15           0              7  Western Pacific  \n",
      "26121         16           0              4  Western Pacific  \n",
      "26308          9           0              8  Western Pacific  \n",
      "26495         21           0              3  Western Pacific  \n",
      "26682         23           0             17  Western Pacific  \n",
      "26869         13           1              6  Western Pacific  \n",
      "27056          7           0              1  Western Pacific  \n",
      "\n",
      "[185 rows x 10 columns]\n"
     ]
    }
   ],
   "source": [
    "print(df.loc[(df[\"Country/Region\"] == \"Malaysia\")])"
   ]
  },
  {
   "cell_type": "code",
   "execution_count": 11,
   "metadata": {},
   "outputs": [
    {
     "name": "stdout",
     "output_type": "stream",
     "text": [
      "             Date Country/Region  Confirmed  Deaths  Recovered  Active  \\\n",
      "13     2020-01-23        Vietnam          2       0          0       2   \n",
      "22     2020-01-24        Vietnam          2       0          0       2   \n",
      "33     2020-01-25        Vietnam          2       0          0       2   \n",
      "46     2020-01-26        Vietnam          2       0          0       2   \n",
      "62     2020-01-27        Vietnam          2       0          0       2   \n",
      "78     2020-01-28        Vietnam          2       0          0       2   \n",
      "96     2020-01-29        Vietnam          2       0          0       2   \n",
      "116    2020-01-30        Vietnam          2       0          0       2   \n",
      "140    2020-01-31        Vietnam          2       0          0       2   \n",
      "165    2020-02-01        Vietnam          6       0          1       5   \n",
      "190    2020-02-02        Vietnam          6       0          1       5   \n",
      "215    2020-02-03        Vietnam          8       0          1       7   \n",
      "241    2020-02-04        Vietnam          8       0          1       7   \n",
      "267    2020-02-05        Vietnam          8       0          1       7   \n",
      "293    2020-02-06        Vietnam         10       0          1       9   \n",
      "319    2020-02-07        Vietnam         10       0          1       9   \n",
      "345    2020-02-08        Vietnam         13       0          1      12   \n",
      "371    2020-02-09        Vietnam         13       0          1      12   \n",
      "397    2020-02-10        Vietnam         14       0          1      13   \n",
      "423    2020-02-11        Vietnam         15       0          6       9   \n",
      "449    2020-02-12        Vietnam         15       0          6       9   \n",
      "475    2020-02-13        Vietnam         16       0          7       9   \n",
      "502    2020-02-14        Vietnam         16       0          7       9   \n",
      "529    2020-02-15        Vietnam         16       0          7       9   \n",
      "556    2020-02-16        Vietnam         16       0          7       9   \n",
      "583    2020-02-17        Vietnam         16       0          7       9   \n",
      "610    2020-02-18        Vietnam         16       0          7       9   \n",
      "638    2020-02-19        Vietnam         16       0          7       9   \n",
      "666    2020-02-20        Vietnam         16       0          7       9   \n",
      "696    2020-02-21        Vietnam         16       0         14       2   \n",
      "...           ...            ...        ...     ...        ...     ...   \n",
      "21709  2020-06-28        Vietnam        355       0        330      25   \n",
      "21896  2020-06-29        Vietnam        355       0        335      20   \n",
      "22083  2020-06-30        Vietnam        355       0        335      20   \n",
      "22270  2020-07-01        Vietnam        355       0        336      19   \n",
      "22457  2020-07-02        Vietnam        355       0        340      15   \n",
      "22644  2020-07-03        Vietnam        355       0        340      15   \n",
      "22831  2020-07-04        Vietnam        355       0        340      15   \n",
      "23018  2020-07-05        Vietnam        355       0        340      15   \n",
      "23205  2020-07-06        Vietnam        369       0        341      28   \n",
      "23392  2020-07-07        Vietnam        369       0        342      27   \n",
      "23579  2020-07-08        Vietnam        369       0        347      22   \n",
      "23766  2020-07-09        Vietnam        369       0        347      22   \n",
      "23953  2020-07-10        Vietnam        370       0        350      20   \n",
      "24140  2020-07-11        Vietnam        370       0        350      20   \n",
      "24327  2020-07-12        Vietnam        372       0        350      22   \n",
      "24514  2020-07-13        Vietnam        373       0        352      21   \n",
      "24701  2020-07-14        Vietnam        373       0        352      21   \n",
      "24888  2020-07-15        Vietnam        381       0        353      28   \n",
      "25075  2020-07-16        Vietnam        381       0        356      25   \n",
      "25262  2020-07-17        Vietnam        382       0        356      26   \n",
      "25449  2020-07-18        Vietnam        382       0        357      25   \n",
      "25636  2020-07-19        Vietnam        383       0        357      26   \n",
      "25823  2020-07-20        Vietnam        384       0        360      24   \n",
      "26010  2020-07-21        Vietnam        401       0        365      36   \n",
      "26197  2020-07-22        Vietnam        408       0        365      43   \n",
      "26384  2020-07-23        Vietnam        412       0        365      47   \n",
      "26571  2020-07-24        Vietnam        415       0        365      50   \n",
      "26758  2020-07-25        Vietnam        417       0        365      52   \n",
      "26945  2020-07-26        Vietnam        420       0        365      55   \n",
      "27132  2020-07-27        Vietnam        431       0        365      66   \n",
      "\n",
      "       New cases  New deaths  New recovered       WHO Region  \n",
      "13             2           0              0  Western Pacific  \n",
      "22             0           0              0  Western Pacific  \n",
      "33             0           0              0  Western Pacific  \n",
      "46             0           0              0  Western Pacific  \n",
      "62             0           0              0  Western Pacific  \n",
      "78             0           0              0  Western Pacific  \n",
      "96             0           0              0  Western Pacific  \n",
      "116            0           0              0  Western Pacific  \n",
      "140            0           0              0  Western Pacific  \n",
      "165            4           0              1  Western Pacific  \n",
      "190            0           0              0  Western Pacific  \n",
      "215            2           0              0  Western Pacific  \n",
      "241            0           0              0  Western Pacific  \n",
      "267            0           0              0  Western Pacific  \n",
      "293            2           0              0  Western Pacific  \n",
      "319            0           0              0  Western Pacific  \n",
      "345            3           0              0  Western Pacific  \n",
      "371            0           0              0  Western Pacific  \n",
      "397            1           0              0  Western Pacific  \n",
      "423            1           0              5  Western Pacific  \n",
      "449            0           0              0  Western Pacific  \n",
      "475            1           0              1  Western Pacific  \n",
      "502            0           0              0  Western Pacific  \n",
      "529            0           0              0  Western Pacific  \n",
      "556            0           0              0  Western Pacific  \n",
      "583            0           0              0  Western Pacific  \n",
      "610            0           0              0  Western Pacific  \n",
      "638            0           0              0  Western Pacific  \n",
      "666            0           0              0  Western Pacific  \n",
      "696            0           0              7  Western Pacific  \n",
      "...          ...         ...            ...              ...  \n",
      "21709          0           0              0  Western Pacific  \n",
      "21896          0           0              5  Western Pacific  \n",
      "22083          0           0              0  Western Pacific  \n",
      "22270          0           0              1  Western Pacific  \n",
      "22457          0           0              4  Western Pacific  \n",
      "22644          0           0              0  Western Pacific  \n",
      "22831          0           0              0  Western Pacific  \n",
      "23018          0           0              0  Western Pacific  \n",
      "23205         14           0              1  Western Pacific  \n",
      "23392          0           0              1  Western Pacific  \n",
      "23579          0           0              5  Western Pacific  \n",
      "23766          0           0              0  Western Pacific  \n",
      "23953          1           0              3  Western Pacific  \n",
      "24140          0           0              0  Western Pacific  \n",
      "24327          2           0              0  Western Pacific  \n",
      "24514          1           0              2  Western Pacific  \n",
      "24701          0           0              0  Western Pacific  \n",
      "24888          8           0              1  Western Pacific  \n",
      "25075          0           0              3  Western Pacific  \n",
      "25262          1           0              0  Western Pacific  \n",
      "25449          0           0              1  Western Pacific  \n",
      "25636          1           0              0  Western Pacific  \n",
      "25823          1           0              3  Western Pacific  \n",
      "26010         17           0              5  Western Pacific  \n",
      "26197          7           0              0  Western Pacific  \n",
      "26384          4           0              0  Western Pacific  \n",
      "26571          3           0              0  Western Pacific  \n",
      "26758          2           0              0  Western Pacific  \n",
      "26945          3           0              0  Western Pacific  \n",
      "27132         11           0              0  Western Pacific  \n",
      "\n",
      "[187 rows x 10 columns]\n"
     ]
    }
   ],
   "source": [
    "print(df.loc[(df[\"Country/Region\"] == \"Vietnam\")])"
   ]
  },
  {
   "cell_type": "markdown",
   "metadata": {},
   "source": [
    "## 3. Banyak negara dengan jumlah kasus terkonfirmasi diatas 5000 pada tanggal 7 Maret 2020"
   ]
  },
  {
   "cell_type": "code",
   "execution_count": 34,
   "metadata": {},
   "outputs": [
    {
     "ename": "AttributeError",
     "evalue": "'DataFrame' object has no attribute 'value_counts'",
     "output_type": "error",
     "traceback": [
      "\u001b[1;31m---------------------------------------------------------------------------\u001b[0m",
      "\u001b[1;31mAttributeError\u001b[0m                            Traceback (most recent call last)",
      "\u001b[1;32m<ipython-input-34-c24d70129c63>\u001b[0m in \u001b[0;36m<module>\u001b[1;34m\u001b[0m\n\u001b[0;32m      1\u001b[0m \u001b[0mdf2\u001b[0m \u001b[1;33m=\u001b[0m \u001b[0mdf\u001b[0m\u001b[1;33m.\u001b[0m\u001b[0mloc\u001b[0m\u001b[1;33m[\u001b[0m\u001b[1;33m(\u001b[0m\u001b[0mdf\u001b[0m\u001b[1;33m[\u001b[0m\u001b[1;34m\"Confirmed\"\u001b[0m\u001b[1;33m]\u001b[0m \u001b[1;33m>\u001b[0m \u001b[1;36m5000\u001b[0m\u001b[1;33m)\u001b[0m \u001b[1;33m&\u001b[0m \u001b[1;33m(\u001b[0m\u001b[0mdf\u001b[0m\u001b[1;33m[\u001b[0m\u001b[1;34m\"Date\"\u001b[0m\u001b[1;33m]\u001b[0m \u001b[1;33m==\u001b[0m \u001b[1;34m\"2020-03-07\"\u001b[0m\u001b[1;33m)\u001b[0m\u001b[1;33m]\u001b[0m\u001b[1;33m\u001b[0m\u001b[1;33m\u001b[0m\u001b[0m\n\u001b[1;32m----> 2\u001b[1;33m \u001b[0mprint\u001b[0m\u001b[1;33m(\u001b[0m\u001b[0mdf2\u001b[0m\u001b[1;33m.\u001b[0m\u001b[0mvalue_counts\u001b[0m\u001b[1;33m(\u001b[0m\u001b[1;33m)\u001b[0m\u001b[1;33m)\u001b[0m\u001b[1;33m\u001b[0m\u001b[1;33m\u001b[0m\u001b[0m\n\u001b[0m",
      "\u001b[1;32m~\\Anaconda3\\lib\\site-packages\\pandas\\core\\generic.py\u001b[0m in \u001b[0;36m__getattr__\u001b[1;34m(self, name)\u001b[0m\n\u001b[0;32m   5065\u001b[0m             \u001b[1;32mif\u001b[0m \u001b[0mself\u001b[0m\u001b[1;33m.\u001b[0m\u001b[0m_info_axis\u001b[0m\u001b[1;33m.\u001b[0m\u001b[0m_can_hold_identifiers_and_holds_name\u001b[0m\u001b[1;33m(\u001b[0m\u001b[0mname\u001b[0m\u001b[1;33m)\u001b[0m\u001b[1;33m:\u001b[0m\u001b[1;33m\u001b[0m\u001b[1;33m\u001b[0m\u001b[0m\n\u001b[0;32m   5066\u001b[0m                 \u001b[1;32mreturn\u001b[0m \u001b[0mself\u001b[0m\u001b[1;33m[\u001b[0m\u001b[0mname\u001b[0m\u001b[1;33m]\u001b[0m\u001b[1;33m\u001b[0m\u001b[1;33m\u001b[0m\u001b[0m\n\u001b[1;32m-> 5067\u001b[1;33m             \u001b[1;32mreturn\u001b[0m \u001b[0mobject\u001b[0m\u001b[1;33m.\u001b[0m\u001b[0m__getattribute__\u001b[0m\u001b[1;33m(\u001b[0m\u001b[0mself\u001b[0m\u001b[1;33m,\u001b[0m \u001b[0mname\u001b[0m\u001b[1;33m)\u001b[0m\u001b[1;33m\u001b[0m\u001b[1;33m\u001b[0m\u001b[0m\n\u001b[0m\u001b[0;32m   5068\u001b[0m \u001b[1;33m\u001b[0m\u001b[0m\n\u001b[0;32m   5069\u001b[0m     \u001b[1;32mdef\u001b[0m \u001b[0m__setattr__\u001b[0m\u001b[1;33m(\u001b[0m\u001b[0mself\u001b[0m\u001b[1;33m,\u001b[0m \u001b[0mname\u001b[0m\u001b[1;33m,\u001b[0m \u001b[0mvalue\u001b[0m\u001b[1;33m)\u001b[0m\u001b[1;33m:\u001b[0m\u001b[1;33m\u001b[0m\u001b[1;33m\u001b[0m\u001b[0m\n",
      "\u001b[1;31mAttributeError\u001b[0m: 'DataFrame' object has no attribute 'value_counts'"
     ]
    }
   ],
   "source": [
    "df2 = df.loc[(df[\"Confirmed\"] > 5000) & (df[\"Date\"] == \"2020-03-07\")].value\n",
    "print(df2.value_counts())"
   ]
  },
  {
   "cell_type": "markdown",
   "metadata": {},
   "source": [
    "## 4. Tanggal kasus pertama di Malaysia"
   ]
  },
  {
   "cell_type": "code",
   "execution_count": 25,
   "metadata": {},
   "outputs": [
    {
     "name": "stdout",
     "output_type": "stream",
     "text": [
      "           Date Country/Region  Confirmed  Deaths  Recovered  Active  \\\n",
      "652  2020-02-20       Malaysia         22       0         15       7   \n",
      "\n",
      "     New cases  New deaths  New recovered       WHO Region  \n",
      "652          0           0              0  Western Pacific  \n"
     ]
    }
   ],
   "source": [
    "df2 = df.loc[(df[\"Country/Region\"] == \"Malaysia\")]\n",
    "imin = df2[\"Confirmed\"].idxmin()\n",
    "print(df2[imin:imin + 1])"
   ]
  },
  {
   "cell_type": "markdown",
   "metadata": {},
   "source": [
    "## 5. Tanggal kasus terbanyak di Ghana"
   ]
  },
  {
   "cell_type": "code",
   "execution_count": 33,
   "metadata": {},
   "outputs": [
    {
     "name": "stdout",
     "output_type": "stream",
     "text": [
      "Empty DataFrame\n",
      "Columns: [Date, Country/Region, Confirmed, Deaths, Recovered, Active, New cases, New deaths, New recovered, WHO Region]\n",
      "Index: []\n"
     ]
    }
   ],
   "source": [
    "df3 = df.loc[(df[\"Country/Region\"] == \"Ghana\")]\n",
    "imax = df3[\"Active\"].idxmax()\n",
    "print(df3[imax:imax])"
   ]
  },
  {
   "cell_type": "code",
   "execution_count": null,
   "metadata": {},
   "outputs": [],
   "source": []
  }
 ],
 "metadata": {
  "kernelspec": {
   "display_name": "Python 3",
   "language": "python",
   "name": "python3"
  },
  "language_info": {
   "codemirror_mode": {
    "name": "ipython",
    "version": 3
   },
   "file_extension": ".py",
   "mimetype": "text/x-python",
   "name": "python",
   "nbconvert_exporter": "python",
   "pygments_lexer": "ipython3",
   "version": "3.7.3"
  }
 },
 "nbformat": 4,
 "nbformat_minor": 4
}
