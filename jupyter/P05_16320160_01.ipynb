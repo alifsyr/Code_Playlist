{
 "cells": [
  {
   "cell_type": "raw",
   "metadata": {},
   "source": [
    "nim/nama :16320160/Andry Dimas Putra\n",
    "tanggal  :15 Desember 2020\n",
    "deskripsi:pandas"
   ]
  },
  {
   "cell_type": "markdown",
   "metadata": {},
   "source": [
    "## 1. Banyaknya data"
   ]
  },
  {
   "cell_type": "code",
   "execution_count": 8,
   "metadata": {},
   "outputs": [
    {
     "name": "stdout",
     "output_type": "stream",
     "text": [
      "27138\n"
     ]
    }
   ],
   "source": [
    "import pandas as pd\n",
    "df = pd.read_csv(\"covid.csv\")\n",
    "print(len(df))"
   ]
  },
  {
   "cell_type": "markdown",
   "metadata": {},
   "source": [
    "## 2. Menuliskan 5 data pertama"
   ]
  },
  {
   "cell_type": "code",
   "execution_count": 5,
   "metadata": {},
   "outputs": [
    {
     "name": "stdout",
     "output_type": "stream",
     "text": [
      "         Date Country/Region  Confirmed  Deaths  Recovered  Active  New cases  \\\n",
      "0  2020-01-22          China        548      17         28     503          0   \n",
      "1  2020-01-22          Japan          2       0          0       2          0   \n",
      "2  2020-01-22    South Korea          1       0          0       1          0   \n",
      "3  2020-01-22        Taiwan*          1       0          0       1          0   \n",
      "4  2020-01-22       Thailand          2       0          0       2          0   \n",
      "\n",
      "   New deaths  New recovered       WHO Region  \n",
      "0           0              0  Western Pacific  \n",
      "1           0              0  Western Pacific  \n",
      "2           0              0  Western Pacific  \n",
      "3           0              0  Western Pacific  \n",
      "4           0              0  South-East Asia  \n"
     ]
    }
   ],
   "source": [
    "print(df[:5])"
   ]
  },
  {
   "cell_type": "markdown",
   "metadata": {},
   "source": [
    "## 3. Menuliskan data ke 406 sampai 410"
   ]
  },
  {
   "cell_type": "code",
   "execution_count": 6,
   "metadata": {},
   "outputs": [
    {
     "name": "stdout",
     "output_type": "stream",
     "text": [
      "           Date Country/Region  Confirmed  Deaths  Recovered  Active  \\\n",
      "405  2020-02-11        Germany         16       0          0      16   \n",
      "406  2020-02-11          India          3       0          0       3   \n",
      "407  2020-02-11          Italy          3       0          0       3   \n",
      "408  2020-02-11          Japan         27       0          9      18   \n",
      "409  2020-02-11       Malaysia         18       0          3      15   \n",
      "\n",
      "     New cases  New deaths  New recovered       WHO Region  \n",
      "405          2           0              0           Europe  \n",
      "406          0           0              0  South-East Asia  \n",
      "407          0           0              0           Europe  \n",
      "408          1           0              5  Western Pacific  \n",
      "409          0           0              2  Western Pacific  \n"
     ]
    }
   ],
   "source": [
    "print(df[405:410])"
   ]
  },
  {
   "cell_type": "markdown",
   "metadata": {},
   "source": [
    "## 4. Banyaknya data masing-masing negara"
   ]
  },
  {
   "cell_type": "code",
   "execution_count": 9,
   "metadata": {},
   "outputs": [
    {
     "name": "stdout",
     "output_type": "stream",
     "text": [
      "US                       188\n",
      "Thailand                 188\n",
      "China                    188\n",
      "Japan                    188\n",
      "South Korea              188\n",
      "Taiwan*                  188\n",
      "Singapore                187\n",
      "Vietnam                  187\n",
      "France                   186\n",
      "Malaysia                 185\n",
      "Nepal                    185\n",
      "Canada                   184\n",
      "Australia                184\n",
      "Sri Lanka                183\n",
      "Germany                  183\n",
      "Cambodia                 183\n",
      "Finland                  181\n",
      "United Arab Emirates     181\n",
      "India                    180\n",
      "Philippines              180\n",
      "United Kingdom           179\n",
      "Russia                   179\n",
      "Sweden                   179\n",
      "Italy                    179\n",
      "Spain                    178\n",
      "Belgium                  175\n",
      "Egypt                    165\n",
      "Iran                     160\n",
      "Lebanon                  158\n",
      "Israel                   158\n",
      "                        ... \n",
      "Madagascar               130\n",
      "Niger                    130\n",
      "Zimbabwe                 130\n",
      "Papua New Guinea         130\n",
      "Eritrea                  129\n",
      "Uganda                   129\n",
      "Grenada                  128\n",
      "Dominica                 128\n",
      "Syria                    128\n",
      "Mozambique               128\n",
      "Timor-Leste              128\n",
      "Belize                   127\n",
      "Laos                     126\n",
      "Libya                    126\n",
      "Mali                     125\n",
      "Saint Kitts and Nevis    125\n",
      "Guinea-Bissau            125\n",
      "Kosovo                   124\n",
      "Burma                    123\n",
      "Botswana                 120\n",
      "Burundi                  119\n",
      "Sierra Leone             119\n",
      "Malawi                   117\n",
      "South Sudan              114\n",
      "Western Sahara           114\n",
      "Sao Tome and Principe    113\n",
      "Yemen                    109\n",
      "Tajikistan                89\n",
      "Comoros                   89\n",
      "Lesotho                   76\n",
      "Name: Country/Region, Length: 187, dtype: int64\n"
     ]
    }
   ],
   "source": [
    "print(df[\"Country/Region\"].value_counts())"
   ]
  },
  {
   "cell_type": "markdown",
   "metadata": {},
   "source": [
    "## 5. Nilai korelasi antara kasus terkonfirmasi dan kasus aktif"
   ]
  },
  {
   "cell_type": "code",
   "execution_count": 14,
   "metadata": {},
   "outputs": [
    {
     "data": {
      "text/plain": [
       "0.9497894846049663"
      ]
     },
     "execution_count": 14,
     "metadata": {},
     "output_type": "execute_result"
    }
   ],
   "source": [
    "df[\"Confirmed\"].corr(df[\"Active\"])"
   ]
  },
  {
   "cell_type": "markdown",
   "metadata": {},
   "source": [
    "### nilai jumlah kasus yang terkonfirmasi dan jumlah kasus aktif berkorelasi lurus karena hasil nya 0.94/ mendekati 1"
   ]
  }
 ],
 "metadata": {
  "kernelspec": {
   "display_name": "Python 3",
   "language": "python",
   "name": "python3"
  },
  "language_info": {
   "codemirror_mode": {
    "name": "ipython",
    "version": 3
   },
   "file_extension": ".py",
   "mimetype": "text/x-python",
   "name": "python",
   "nbconvert_exporter": "python",
   "pygments_lexer": "ipython3",
   "version": "3.7.3"
  }
 },
 "nbformat": 4,
 "nbformat_minor": 4
}
